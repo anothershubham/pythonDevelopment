{
 "cells": [
  {
   "cell_type": "code",
   "execution_count": 5,
   "metadata": {},
   "outputs": [
    {
     "name": "stdout",
     "output_type": "stream",
     "text": [
      "C:/ssdd/sdsddsdsdds/213dsa123dsa\\n\n"
     ]
    }
   ],
   "source": [
    "print(r'C:/ssdd/sdsddsdsdds/213dsa123dsa\\n')"
   ]
  },
  {
   "cell_type": "code",
   "execution_count": 6,
   "metadata": {},
   "outputs": [],
   "source": [
    "import re"
   ]
  },
  {
   "cell_type": "code",
   "execution_count": 15,
   "metadata": {},
   "outputs": [
    {
     "name": "stdout",
     "output_type": "stream",
     "text": [
      "None\n"
     ]
    }
   ],
   "source": [
    "data = re.match('sdsdsdsd',r'dsdsd sdsdssdsdsdsd sdsdsdsd sdsdsdsd sdsdsdsdsdsdsdsddsd')\n",
    "print(data )"
   ]
  },
  {
   "cell_type": "code",
   "execution_count": 20,
   "metadata": {},
   "outputs": [
    {
     "name": "stdout",
     "output_type": "stream",
     "text": [
      "sdsdsdsd\n"
     ]
    }
   ],
   "source": [
    "data = re.search('sdsdsdsd',r'dsdsd sdsdssdsdsdsd sdsdsdsd sdsdsdsd sdsdsdsdsdsdsdsddsd')\n",
    "print(data.group() )"
   ]
  },
  {
   "cell_type": "code",
   "execution_count": 22,
   "metadata": {},
   "outputs": [
    {
     "name": "stdout",
     "output_type": "stream",
     "text": [
      "['sdsdsdsd', 'sdsdsdsd', 'sdsdsdsd', 'sdsdsdsd', 'sdsdsdsd']\n"
     ]
    }
   ],
   "source": [
    "data = re.findall('sdsdsdsd',r'dsdsd sdsdssdsdsdsd sdsdsdsd sdsdsdsd sdsdsdsdsdsdsdsddsd')\n",
    "print(data)"
   ]
  },
  {
   "cell_type": "code",
   "execution_count": null,
   "metadata": {},
   "outputs": [],
   "source": [
    "data.appen"
   ]
  }
 ],
 "metadata": {
  "kernelspec": {
   "display_name": "Python 3",
   "language": "python",
   "name": "python3"
  },
  "language_info": {
   "codemirror_mode": {
    "name": "ipython",
    "version": 3
   },
   "file_extension": ".py",
   "mimetype": "text/x-python",
   "name": "python",
   "nbconvert_exporter": "python",
   "pygments_lexer": "ipython3",
   "version": "3.8.3"
  }
 },
 "nbformat": 4,
 "nbformat_minor": 4
}
